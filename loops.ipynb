{
  "nbformat": 4,
  "nbformat_minor": 0,
  "metadata": {
    "colab": {
      "provenance": [],
      "authorship_tag": "ABX9TyMD5KyGKxxYU5lOaIhxMBAA",
      "include_colab_link": true
    },
    "kernelspec": {
      "name": "python3",
      "display_name": "Python 3"
    },
    "language_info": {
      "name": "python"
    }
  },
  "cells": [
    {
      "cell_type": "markdown",
      "metadata": {
        "id": "view-in-github",
        "colab_type": "text"
      },
      "source": [
        "<a href=\"https://colab.research.google.com/github/sardar-ammad-143/Basic-Python/blob/main/loops.ipynb\" target=\"_parent\"><img src=\"https://colab.research.google.com/assets/colab-badge.svg\" alt=\"Open In Colab\"/></a>"
      ]
    },
    {
      "cell_type": "markdown",
      "source": [
        "**Loops**"
      ],
      "metadata": {
        "id": "jJlrfJ_gxFBr"
      }
    },
    {
      "cell_type": "code",
      "source": [
        "#print tabel using range function\n",
        "s=int(input(\"enter table you can print \"))\n",
        "for i in range(1, 11):\n",
        "    print(s,\"*\",i,\"  =\",\"    \",s*i)"
      ],
      "metadata": {
        "colab": {
          "base_uri": "https://localhost:8080/"
        },
        "id": "Zm8gYO_sxYiL",
        "outputId": "5fa6c7cf-c91f-46a0-cd99-40af50212986"
      },
      "execution_count": null,
      "outputs": [
        {
          "output_type": "stream",
          "name": "stdout",
          "text": [
            "enter table you can print 9\n",
            "9 * 1   =      9\n",
            "9 * 2   =      18\n",
            "9 * 3   =      27\n",
            "9 * 4   =      36\n",
            "9 * 5   =      45\n",
            "9 * 6   =      54\n",
            "9 * 7   =      63\n",
            "9 * 8   =      72\n",
            "9 * 9   =      81\n",
            "9 * 10   =      90\n"
          ]
        }
      ]
    }
  ]
}