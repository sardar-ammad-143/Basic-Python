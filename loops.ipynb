{
  "nbformat": 4,
  "nbformat_minor": 0,
  "metadata": {
    "colab": {
      "provenance": [],
      "authorship_tag": "ABX9TyPcBHG9MWms4gR4xBKWen40",
      "include_colab_link": true
    },
    "kernelspec": {
      "name": "python3",
      "display_name": "Python 3"
    },
    "language_info": {
      "name": "python"
    }
  },
  "cells": [
    {
      "cell_type": "markdown",
      "metadata": {
        "id": "view-in-github",
        "colab_type": "text"
      },
      "source": [
        "<a href=\"https://colab.research.google.com/github/sardar-ammad-143/Basic-Python/blob/main/loops.ipynb\" target=\"_parent\"><img src=\"https://colab.research.google.com/assets/colab-badge.svg\" alt=\"Open In Colab\"/></a>"
      ]
    },
    {
      "cell_type": "markdown",
      "source": [
        "** for Loops**"
      ],
      "metadata": {
        "id": "jJlrfJ_gxFBr"
      }
    },
    {
      "cell_type": "code",
      "source": [
        "for i in range(5):\n",
        "    print(\"hello \")"
      ],
      "metadata": {
        "colab": {
          "base_uri": "https://localhost:8080/"
        },
        "id": "WkTH2IKZ2p9l",
        "outputId": "724c61fd-b65f-4060-a13e-6ae3e54e730d"
      },
      "execution_count": 8,
      "outputs": [
        {
          "output_type": "stream",
          "name": "stdout",
          "text": [
            "hello \n",
            "hello \n",
            "hello \n",
            "hello \n",
            "hello \n"
          ]
        }
      ]
    },
    {
      "cell_type": "code",
      "source": [
        "number_list =['ali', 'ammad', 'sardar' , 'malik', 'muneeb']\n",
        "\n",
        "for number in number_list:\n",
        "    print(number)\n",
        ""
      ],
      "metadata": {
        "colab": {
          "base_uri": "https://localhost:8080/"
        },
        "id": "sAXLVcvB2tXE",
        "outputId": "149f126f-6e0d-49a6-e56f-82682a1b1813"
      },
      "execution_count": 9,
      "outputs": [
        {
          "output_type": "stream",
          "name": "stdout",
          "text": [
            "ali\n",
            "ammad\n",
            "sardar\n",
            "malik\n",
            "muneeb\n"
          ]
        }
      ]
    },
    {
      "cell_type": "code",
      "source": [
        "number_list=[10,20,30,40,50,60,70]\n",
        "total_sum = 0\n",
        "list_length = len(number_list)\n",
        "for num in number_list :\n",
        "    total_sum = total_sum + num\n",
        "    print(total_sum)\n",
        "\n",
        "Average_sum = total_sum/list_length\n",
        "print(\"Average :\" , Average_sum)"
      ],
      "metadata": {
        "colab": {
          "base_uri": "https://localhost:8080/"
        },
        "id": "HUtVR5Sy2xp3",
        "outputId": "62e0f5f7-89b6-4074-980f-72ae0d045da4"
      },
      "execution_count": 10,
      "outputs": [
        {
          "output_type": "stream",
          "name": "stdout",
          "text": [
            "10\n",
            "30\n",
            "60\n",
            "100\n",
            "150\n",
            "210\n",
            "280\n",
            "Average : 40.0\n"
          ]
        }
      ]
    },
    {
      "cell_type": "code",
      "source": [
        "stri =\"ammadkhansardar\"\n",
        "for character in stri :\n",
        "    print(character)"
      ],
      "metadata": {
        "colab": {
          "base_uri": "https://localhost:8080/"
        },
        "id": "SfGnyQfa246s",
        "outputId": "ec040f5f-5da9-4947-d88d-7f3aa0b65c6e"
      },
      "execution_count": 11,
      "outputs": [
        {
          "output_type": "stream",
          "name": "stdout",
          "text": [
            "a\n",
            "m\n",
            "m\n",
            "a\n",
            "d\n",
            "k\n",
            "h\n",
            "a\n",
            "n\n",
            "s\n",
            "a\n",
            "r\n",
            "d\n",
            "a\n",
            "r\n"
          ]
        }
      ]
    },
    {
      "cell_type": "code",
      "source": [
        "list3=[10 ,20 ,3 ,40 ,50 ,60 ,70 ,80 ,80 ,90 ]\n",
        "for i in range(len(list3)):\n",
        "    print(i, list3[i])"
      ],
      "metadata": {
        "colab": {
          "base_uri": "https://localhost:8080/"
        },
        "id": "6ZVlC1e53ARi",
        "outputId": "8ff7ceab-f167-4a44-f739-d324a4a5ccec"
      },
      "execution_count": 12,
      "outputs": [
        {
          "output_type": "stream",
          "name": "stdout",
          "text": [
            "0 10\n",
            "1 20\n",
            "2 3\n",
            "3 40\n",
            "4 50\n",
            "5 60\n",
            "6 70\n",
            "7 80\n",
            "8 80\n",
            "9 90\n"
          ]
        }
      ]
    },
    {
      "cell_type": "code",
      "source": [
        "#we can use keys and values to get values and keys in output from dictionary\n",
        "#  dic4={ \"apple\": \"fav fruit\",\n",
        "#        \"applep\": \"Fav company\",\n",
        "#         \"window\": \"fav operating system\",\n",
        "#         \"year \": 2024 }\n",
        "# Example dictionary\n",
        "person = {\n",
        "    \"name\": \"Alice\",\n",
        "    \"age\": 30,\n",
        "    \"city\": \"New York\",\n",
        "    \"profession\": \"Engineer\"\n",
        "}\n",
        "print(\"keys:\")\n",
        "for key in person.keys():\n",
        "    print(key)\n",
        "# Print all keys in the dictionary\n",
        "print(\"Values:\")\n",
        "for value in person.values():\n",
        "    print(value)"
      ],
      "metadata": {
        "colab": {
          "base_uri": "https://localhost:8080/"
        },
        "id": "YUrsROa83Ioe",
        "outputId": "a415c654-77e9-4ead-fb82-cd5a632b8293"
      },
      "execution_count": 13,
      "outputs": [
        {
          "output_type": "stream",
          "name": "stdout",
          "text": [
            "keys:\n",
            "name\n",
            "age\n",
            "city\n",
            "profession\n",
            "Values:\n",
            "Alice\n",
            "30\n",
            "New York\n",
            "Engineer\n"
          ]
        }
      ]
    },
    {
      "cell_type": "code",
      "source": [
        "#print tabel using range function\n",
        "s=int(input(\"enter table you can print \"))\n",
        "for i in range(1, 11):\n",
        "    print(s,\"*\",i,\"  =\",\"    \",s*i)"
      ],
      "metadata": {
        "colab": {
          "base_uri": "https://localhost:8080/"
        },
        "id": "Zm8gYO_sxYiL",
        "outputId": "5fa6c7cf-c91f-46a0-cd99-40af50212986"
      },
      "execution_count": null,
      "outputs": [
        {
          "output_type": "stream",
          "name": "stdout",
          "text": [
            "enter table you can print 9\n",
            "9 * 1   =      9\n",
            "9 * 2   =      18\n",
            "9 * 3   =      27\n",
            "9 * 4   =      36\n",
            "9 * 5   =      45\n",
            "9 * 6   =      54\n",
            "9 * 7   =      63\n",
            "9 * 8   =      72\n",
            "9 * 9   =      81\n",
            "9 * 10   =      90\n"
          ]
        }
      ]
    },
    {
      "cell_type": "markdown",
      "source": [
        "**While Loop**"
      ],
      "metadata": {
        "id": "5vDgCcf10Mjv"
      }
    },
    {
      "cell_type": "code",
      "source": [
        "cr_no = -10\n",
        "while cr_no < 5:\n",
        "    print(cr_no)\n",
        "    cr_no = cr_no + 1"
      ],
      "metadata": {
        "colab": {
          "base_uri": "https://localhost:8080/"
        },
        "id": "2ttUCDhv0Q-L",
        "outputId": "e9690112-57a3-4035-c57f-42276eba12ec"
      },
      "execution_count": 7,
      "outputs": [
        {
          "output_type": "stream",
          "name": "stdout",
          "text": [
            "-10\n",
            "-9\n",
            "-8\n",
            "-7\n",
            "-6\n",
            "-5\n",
            "-4\n",
            "-3\n",
            "-2\n",
            "-1\n",
            "0\n",
            "1\n",
            "2\n",
            "3\n",
            "4\n"
          ]
        }
      ]
    },
    {
      "cell_type": "code",
      "source": [
        "last_no = 10\n",
        "total_sum = 0\n",
        "f_no =1\n",
        "start_no=f_no\n",
        "while start_no <= last_no:\n",
        "    total_sum = total_sum + start_no\n",
        "    start_no = start_no + 1\n",
        "print(\"Total sum \" , total_sum)\n"
      ],
      "metadata": {
        "colab": {
          "base_uri": "https://localhost:8080/"
        },
        "id": "L-pbJ9yU1uYq",
        "outputId": "fc173b3f-0bad-42de-9059-52d2ed76f2bd"
      },
      "execution_count": 17,
      "outputs": [
        {
          "output_type": "stream",
          "name": "stdout",
          "text": [
            "Total sum  55\n"
          ]
        }
      ]
    },
    {
      "cell_type": "markdown",
      "source": [
        "**Decresing orders**"
      ],
      "metadata": {
        "id": "RuyMgpTr8d2w"
      }
    },
    {
      "cell_type": "code",
      "source": [
        "w=int(input(\"please enter input value \"))\n",
        "while w >= 0:\n",
        "    print(\"Value of a is :\" , w)\n",
        "    w = w-2\n",
        "\n",
        "print(\"loop is completed \")"
      ],
      "metadata": {
        "colab": {
          "base_uri": "https://localhost:8080/"
        },
        "id": "o2S-TGfm7cQz",
        "outputId": "3d505ada-cf32-4b81-c635-1663fdde62ae"
      },
      "execution_count": 19,
      "outputs": [
        {
          "output_type": "stream",
          "name": "stdout",
          "text": [
            "please enter input value 10\n",
            "Value of a is : 10\n",
            "Value of a is : 8\n",
            "Value of a is : 6\n",
            "Value of a is : 4\n",
            "Value of a is : 2\n",
            "Value of a is : 0\n",
            "loop is completed \n"
          ]
        }
      ]
    },
    {
      "cell_type": "code",
      "source": [
        "check =int(input(\"Enter number you can check :\"))\n",
        "check_no=check\n",
        "diviser_no =int(input(\"Enter Diviser number you can divide :\"))\n",
        "limit_no = int(input(\"Enter minimum no that you can not cross limit \"))\n",
        "count =0\n",
        "while limit_no <= check_no :\n",
        "    check_no = check_no/diviser_no\n",
        "    count=count + 1\n",
        "\n",
        "print(\"you enterd number divide \", count ,\"Times\")"
      ],
      "metadata": {
        "id": "td44dEBfCIsh",
        "outputId": "8007e307-0d97-4efe-8393-0b46cc82b942",
        "colab": {
          "base_uri": "https://localhost:8080/"
        }
      },
      "execution_count": null,
      "outputs": [
        {
          "name": "stdout",
          "output_type": "stream",
          "text": [
            "Enter number you can check :80\n",
            "Enter Diviser number you can divide :8\n",
            "Enter minimum no that you can not cross limit 0\n"
          ]
        }
      ]
    }
  ]
}