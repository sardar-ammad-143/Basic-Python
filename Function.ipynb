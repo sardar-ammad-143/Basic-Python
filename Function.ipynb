{
  "nbformat": 4,
  "nbformat_minor": 0,
  "metadata": {
    "colab": {
      "provenance": [],
      "authorship_tag": "ABX9TyMnHVrlkFPvVBLd9rjChY/A",
      "include_colab_link": true
    },
    "kernelspec": {
      "name": "python3",
      "display_name": "Python 3"
    },
    "language_info": {
      "name": "python"
    }
  },
  "cells": [
    {
      "cell_type": "markdown",
      "metadata": {
        "id": "view-in-github",
        "colab_type": "text"
      },
      "source": [
        "<a href=\"https://colab.research.google.com/github/sardar-ammad-143/Basic-Python/blob/main/Function.ipynb\" target=\"_parent\"><img src=\"https://colab.research.google.com/assets/colab-badge.svg\" alt=\"Open In Colab\"/></a>"
      ]
    },
    {
      "cell_type": "markdown",
      "source": [
        "**Functions**"
      ],
      "metadata": {
        "id": "27AGAyytFrj-"
      }
    },
    {
      "cell_type": "code",
      "source": [
        "def print_company_name ():\n",
        "    print(\"This is our company name \")\n",
        "\n",
        "print_company_name()\n"
      ],
      "metadata": {
        "id": "WvalCMpNGs5V",
        "outputId": "4e44eb39-3516-49f4-eef6-9895ece4f0ae",
        "colab": {
          "base_uri": "https://localhost:8080/"
        }
      },
      "execution_count": 2,
      "outputs": [
        {
          "output_type": "stream",
          "name": "stdout",
          "text": [
            "This is our company name \n"
          ]
        }
      ]
    },
    {
      "cell_type": "code",
      "source": [
        "def add_two_no():\n",
        "    f=int(input(\"enter first no :  \"))\n",
        "    s = int(input(\"enter second no : \"))\n",
        "    total = f + s\n",
        "    return total\n",
        "\n",
        "\n",
        "answer= add_two_no()\n",
        "print(answer)\n"
      ],
      "metadata": {
        "id": "eKqZUSJJHWHV",
        "outputId": "98467119-8c8b-480c-8c85-72aedd0f085e",
        "colab": {
          "base_uri": "https://localhost:8080/"
        }
      },
      "execution_count": 8,
      "outputs": [
        {
          "output_type": "stream",
          "name": "stdout",
          "text": [
            "enter first no :  8\n",
            "enter second no : 7\n",
            "15\n"
          ]
        }
      ]
    },
    {
      "cell_type": "code",
      "source": [
        "def add_name (name):\n",
        "    print(f\"Hello ,{name}! \")\n",
        "\n",
        "s=input(\"enter your name \")\n",
        "add_name(s)"
      ],
      "metadata": {
        "id": "_Vxv8BOHQr8H",
        "outputId": "029fd7e6-48f1-42bb-edbb-4c1e8d5d2d6b",
        "colab": {
          "base_uri": "https://localhost:8080/"
        }
      },
      "execution_count": 12,
      "outputs": [
        {
          "output_type": "stream",
          "name": "stdout",
          "text": [
            "enter your name ammad\n",
            "Hello ,ammad \n"
          ]
        }
      ]
    },
    {
      "cell_type": "code",
      "source": [
        "def add_no (a , b):\n",
        "    total = a + b\n",
        "    return total\n",
        "\n",
        "a=int(input(\"enter first no  \"))\n",
        "b=int(input(\"enter second no9 \"))\n",
        "res=add_no(a, b)\n",
        "print(res)"
      ],
      "metadata": {
        "id": "tosZHCwzRxub",
        "outputId": "4df91d5d-be13-4ea9-fdf6-651fa129220d",
        "colab": {
          "base_uri": "https://localhost:8080/"
        }
      },
      "execution_count": 15,
      "outputs": [
        {
          "output_type": "stream",
          "name": "stdout",
          "text": [
            "enter first no  7\n",
            "enter second no9 9\n",
            "16\n"
          ]
        }
      ]
    },
    {
      "cell_type": "code",
      "source": [
        "def hee(name=\"sardar\"):\n",
        "    print(f\"hello {name}\")\n",
        "\n",
        "# Calling without an argument uses the default value\n",
        "hee()\n",
        "# Calling with an argument overrides the default value\n",
        "hee(\"ali\")"
      ],
      "metadata": {
        "id": "WzIChMoRSWGv",
        "outputId": "6efa0f20-18a4-49b9-da30-abd79d1f4aa8",
        "colab": {
          "base_uri": "https://localhost:8080/"
        }
      },
      "execution_count": 17,
      "outputs": [
        {
          "output_type": "stream",
          "name": "stdout",
          "text": [
            "hello sardar\n",
            "hello ali\n"
          ]
        }
      ]
    },
    {
      "cell_type": "code",
      "source": [
        "def describe_person(age , name):\n",
        "    print(f\"{name} is {age} year old\")\n",
        "\n",
        "n=input(\"enter your name :\" )\n",
        "a=int(input(\"enter your age :\"))\n",
        "\n",
        "describe_person(a,n)"
      ],
      "metadata": {
        "id": "M_Vk307VUCtN",
        "outputId": "bd656cbe-06af-47e5-a8cb-119b796bfd66",
        "colab": {
          "base_uri": "https://localhost:8080/"
        }
      },
      "execution_count": 18,
      "outputs": [
        {
          "output_type": "stream",
          "name": "stdout",
          "text": [
            "enter your name :ammad\n",
            "enter your age :26\n",
            "ammad is 26 year old\n"
          ]
        }
      ]
    },
    {
      "cell_type": "markdown",
      "source": [
        "Variable-Length Arguments (*args) **bold text**\n",
        "When you don't know how many arguments you want to pass to a function, you can use *args to accept a variable number of arguments."
      ],
      "metadata": {
        "id": "nVf9NvEiVgOL"
      }
    },
    {
      "cell_type": "code",
      "source": [
        "def sum_no(*args):\n",
        "    return sum(args)\n",
        "\n",
        "print(sum_no(1,2,3,4,5))"
      ],
      "metadata": {
        "id": "i4t4M9mgVwKR",
        "outputId": "b3dccd97-d2cd-4458-fe58-c85b45221a39",
        "colab": {
          "base_uri": "https://localhost:8080/"
        }
      },
      "execution_count": 21,
      "outputs": [
        {
          "output_type": "stream",
          "name": "stdout",
          "text": [
            "15\n"
          ]
        }
      ]
    }
  ]
}