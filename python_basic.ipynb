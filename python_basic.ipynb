{
  "nbformat": 4,
  "nbformat_minor": 0,
  "metadata": {
    "colab": {
      "provenance": [],
      "authorship_tag": "ABX9TyMR3qzkPdvuAl2x5J/F0+/x",
      "include_colab_link": true
    },
    "kernelspec": {
      "name": "python3",
      "display_name": "Python 3"
    },
    "language_info": {
      "name": "python"
    }
  },
  "cells": [
    {
      "cell_type": "markdown",
      "metadata": {
        "id": "view-in-github",
        "colab_type": "text"
      },
      "source": [
        "<a href=\"https://colab.research.google.com/github/sardar-ammad-143/Basic-Python/blob/main/python_basic.ipynb\" target=\"_parent\"><img src=\"https://colab.research.google.com/assets/colab-badge.svg\" alt=\"Open In Colab\"/></a>"
      ]
    },
    {
      "cell_type": "code",
      "execution_count": null,
      "metadata": {
        "colab": {
          "base_uri": "https://localhost:8080/"
        },
        "id": "fhLfdRRWfOL9",
        "outputId": "2a0f2963-867e-4f56-ffd7-e06139914c22"
      },
      "outputs": [
        {
          "output_type": "stream",
          "name": "stdout",
          "text": [
            "25\n"
          ]
        }
      ],
      "source": [
        "# saving and printing the students marks for calculating total marks\n",
        "num_student =25\n",
        "print(num_student)"
      ]
    },
    {
      "cell_type": "code",
      "source": [
        "total_sale =30.5454\n",
        "print(total_sale)"
      ],
      "metadata": {
        "colab": {
          "base_uri": "https://localhost:8080/"
        },
        "id": "TsWVTwaufjbW",
        "outputId": "42f959b8-cb43-4640-f3a0-c18b52ddca8e"
      },
      "execution_count": null,
      "outputs": [
        {
          "output_type": "stream",
          "name": "stdout",
          "text": [
            "30.5454\n"
          ]
        }
      ]
    },
    {
      "cell_type": "code",
      "source": [
        "student_name =\"A\"\n",
        "print(\"hello word \")\n"
      ],
      "metadata": {
        "colab": {
          "base_uri": "https://localhost:8080/"
        },
        "id": "xJNIV2kXgcDV",
        "outputId": "9e9bfe33-be53-4ec9-9ef4-77ebc944c7ce"
      },
      "execution_count": null,
      "outputs": [
        {
          "output_type": "stream",
          "name": "stdout",
          "text": [
            "hello word \n"
          ]
        }
      ]
    },
    {
      "cell_type": "markdown",
      "source": [
        "**Data Type : Numeric**\n",
        "\n",
        "\n",
        "1.   int = 12\n",
        "2.   float= 34.65\n",
        "3.   complex = 1 + 3k\n",
        "\n",
        "\n"
      ],
      "metadata": {
        "id": "PB1IQVKdiSQP"
      }
    },
    {
      "cell_type": "markdown",
      "source": [
        "**Data Type : String **\n",
        "\n",
        "\n",
        "*   str : \"The future of AI\"\n",
        "\n"
      ],
      "metadata": {
        "id": "VAo4hMbLjFMG"
      }
    },
    {
      "cell_type": "code",
      "source": [],
      "metadata": {
        "id": "tD_zuAK0iISV"
      },
      "execution_count": null,
      "outputs": []
    },
    {
      "cell_type": "code",
      "source": [
        "#synatax error color\n",
        "2nd_student = \"alice\"\n",
        "#reserve word color\n",
        "if =10\n"
      ],
      "metadata": {
        "colab": {
          "base_uri": "https://localhost:8080/",
          "height": 106
        },
        "id": "dGt1QSlKhR9V",
        "outputId": "88e1bb17-0f55-47a0-d876-7f791e909b6d"
      },
      "execution_count": null,
      "outputs": [
        {
          "output_type": "error",
          "ename": "SyntaxError",
          "evalue": "invalid decimal literal (<ipython-input-13-49ddf68b3e92>, line 2)",
          "traceback": [
            "\u001b[0;36m  File \u001b[0;32m\"<ipython-input-13-49ddf68b3e92>\"\u001b[0;36m, line \u001b[0;32m2\u001b[0m\n\u001b[0;31m    2nd_student = \"alice\"\u001b[0m\n\u001b[0m    ^\u001b[0m\n\u001b[0;31mSyntaxError\u001b[0m\u001b[0;31m:\u001b[0m invalid decimal literal\n"
          ]
        }
      ]
    }
  ]
}