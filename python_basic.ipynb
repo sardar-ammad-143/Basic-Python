{
  "cells": [
    {
      "cell_type": "markdown",
      "metadata": {
        "id": "view-in-github",
        "colab_type": "text"
      },
      "source": [
        "<a href=\"https://colab.research.google.com/github/sardar-ammad-143/Basic-Python/blob/main/python_basic.ipynb\" target=\"_parent\"><img src=\"https://colab.research.google.com/assets/colab-badge.svg\" alt=\"Open In Colab\"/></a>"
      ]
    },
    {
      "cell_type": "code",
      "execution_count": null,
      "metadata": {
        "colab": {
          "base_uri": "https://localhost:8080/"
        },
        "id": "fhLfdRRWfOL9",
        "outputId": "2a0f2963-867e-4f56-ffd7-e06139914c22"
      },
      "outputs": [
        {
          "name": "stdout",
          "output_type": "stream",
          "text": [
            "25\n"
          ]
        }
      ],
      "source": [
        "# saving and printing the students marks for calculating total marks\n",
        "num_student =25\n",
        "print(num_student)"
      ]
    },
    {
      "cell_type": "code",
      "execution_count": null,
      "metadata": {
        "colab": {
          "base_uri": "https://localhost:8080/"
        },
        "id": "TsWVTwaufjbW",
        "outputId": "42f959b8-cb43-4640-f3a0-c18b52ddca8e"
      },
      "outputs": [
        {
          "name": "stdout",
          "output_type": "stream",
          "text": [
            "30.5454\n"
          ]
        }
      ],
      "source": [
        "total_sale =30.5454\n",
        "print(total_sale)"
      ]
    },
    {
      "cell_type": "code",
      "execution_count": null,
      "metadata": {
        "colab": {
          "base_uri": "https://localhost:8080/"
        },
        "id": "xJNIV2kXgcDV",
        "outputId": "9e9bfe33-be53-4ec9-9ef4-77ebc944c7ce"
      },
      "outputs": [
        {
          "name": "stdout",
          "output_type": "stream",
          "text": [
            "hello word \n"
          ]
        }
      ],
      "source": [
        "student_name =\"A\"\n",
        "print(\"hello word \")\n"
      ]
    },
    {
      "cell_type": "markdown",
      "metadata": {
        "id": "PB1IQVKdiSQP"
      },
      "source": [
        "**Data Type : Numeric**\n",
        "\n",
        "\n",
        "1.   int = 12\n",
        "2.   float= 34.65\n",
        "3.   complex = 1 + 3k\n",
        "\n",
        "\n"
      ]
    },
    {
      "cell_type": "markdown",
      "metadata": {
        "id": "VAo4hMbLjFMG"
      },
      "source": [
        "**Data Type : String **\n",
        "\n",
        "\n",
        "*   str : \"The future of AI\"\n",
        "\n"
      ]
    },
    {
      "cell_type": "code",
      "execution_count": null,
      "metadata": {
        "id": "tD_zuAK0iISV"
      },
      "outputs": [],
      "source": []
    },
    {
      "cell_type": "code",
      "execution_count": null,
      "metadata": {
        "colab": {
          "base_uri": "https://localhost:8080/",
          "height": 106
        },
        "id": "dGt1QSlKhR9V",
        "outputId": "88e1bb17-0f55-47a0-d876-7f791e909b6d"
      },
      "outputs": [
        {
          "ename": "SyntaxError",
          "evalue": "invalid decimal literal (<ipython-input-13-49ddf68b3e92>, line 2)",
          "output_type": "error",
          "traceback": [
            "\u001b[0;36m  File \u001b[0;32m\"<ipython-input-13-49ddf68b3e92>\"\u001b[0;36m, line \u001b[0;32m2\u001b[0m\n\u001b[0;31m    2nd_student = \"alice\"\u001b[0m\n\u001b[0m    ^\u001b[0m\n\u001b[0;31mSyntaxError\u001b[0m\u001b[0;31m:\u001b[0m invalid decimal literal\n"
          ]
        }
      ],
      "source": [
        "#synatax error color\n",
        "2nd_student = \"alice\"\n",
        "#reserve word color\n",
        "if =10\n"
      ]
    },
    {
      "cell_type": "markdown",
      "metadata": {
        "id": "zSj1fLQi2inz"
      },
      "source": [
        "**Lecture 2 **\n",
        "\n",
        "\n",
        "1.   Python String\n",
        "2.   Python List\n",
        "3.   Python Tuple\n",
        "4.   Python Sets\n",
        "5.   Arithmetic Operator\n",
        "6.   Logical Operator\n",
        "\n",
        "\n",
        "**String Python**\n"
      ]
    },
    {
      "cell_type": "code",
      "execution_count": null,
      "metadata": {
        "colab": {
          "base_uri": "https://localhost:8080/"
        },
        "id": "4G-f5f-w3wA5",
        "outputId": "4a292eff-9fe1-428c-f6f3-6b88ea4acd24"
      },
      "outputs": [
        {
          "name": "stdout",
          "output_type": "stream",
          "text": [
            "I'm Ammad   Idrees \n",
            "hello Ammad \n"
          ]
        }
      ],
      "source": [
        "print(\"I'm Ammad   Idrees \")\n",
        "print('hello Ammad ')"
      ]
    },
    {
      "cell_type": "code",
      "execution_count": null,
      "metadata": {
        "colab": {
          "base_uri": "https://localhost:8080/"
        },
        "id": "UvmInkcf4GRa",
        "outputId": "9c93b4d4-830a-46b6-95eb-cb31feb4a2dc"
      },
      "outputs": [
        {
          "name": "stdout",
          "output_type": "stream",
          "text": [
            "how are you \n"
          ]
        }
      ],
      "source": [
        "a=\"how are you \"\n",
        "print(a)"
      ]
    },
    {
      "cell_type": "code",
      "execution_count": null,
      "metadata": {
        "colab": {
          "base_uri": "https://localhost:8080/"
        },
        "id": "ii2TxNKq4gJm",
        "outputId": "f8b5ba20-0c46-4237-ab06-8fa90fbd84e1"
      },
      "outputs": [
        {
          "name": "stdout",
          "output_type": "stream",
          "text": [
            "Free API Trials:\n",
            "Many AI service providers offer free trials or limited access to their APIs. Take advantage of these to test your prompts without incurring costs.\n",
            "Local Execution:\n",
            "Running models locally on your own hardware can be a cost-effective way to experiment with AI prompts. While this might require some technical setup, it can be a good option for ongoing usage.\n",
            "\n",
            "\n",
            "Free API Trials:\n",
            "Many AI service providers offer free trials or limited access to their APIs. Take advantage of these to test your prompts without incurring costs.\n",
            "Local Execution:\n",
            "Running models locally on your own hardware can be a cost-effective way to experiment with AI prompts. While this might require some technical setup, it can be a good option for ongoing usage.\n",
            "\n",
            "\n",
            "FREE API TRIALS:\n",
            "MANY AI SERVICE PROVIDERS OFFER FREE TRIALS OR LIMITED ACCESS TO THEIR APIS. TAKE ADVANTAGE OF THESE TO TEST YOUR PROMPTS WITHOUT INCURRING COSTS.\n",
            "LOCAL EXECUTION:\n",
            "RUNNING MODELS LOCALLY ON YOUR OWN HARDWARE CAN BE A COST-EFFECTIVE WAY TO EXPERIMENT WITH AI PROMPTS. WHILE THIS MIGHT REQUIRE SOME TECHNICAL SETUP, IT CAN BE A GOOD OPTION FOR ONGOING USAGE.\n",
            "\n",
            "\n",
            "free api trials:\n",
            "many ai service providers offer free trials or limited access to their apis. take advantage of these to test your prompts without incurring costs.\n",
            "local execution:\n",
            "running models locally on your own hardware can be a cost-effective way to experiment with ai prompts. while this might require some technical setup, it can be a good option for ongoing usage.\n",
            "\n",
            "\n",
            "Hello  word     ;;\n",
            "free of cost API Trials:\n",
            "Many AI service providers offer free trials or limited access to their APIs. Take advantage of these to test your prompts without incurring costs.\n",
            "Local Execution:\n",
            "Running models locally on your own hardware can be a cost-effective way to experiment with AI prompts. While this might require some technical setup, it can be a good option for ongoing usage.\n",
            "\n",
            "\n"
          ]
        }
      ],
      "source": [
        "#paragraph string\n",
        "print(\"\"\"Free API Trials:\n",
        "Many AI service providers offer free trials or limited access to their APIs. Take advantage of these to test your prompts without incurring costs.\n",
        "Local Execution:\n",
        "Running models locally on your own hardware can be a cost-effective way to experiment with AI prompts. While this might require some technical setup, it can be a good option for ongoing usage.\n",
        "\n",
        "\"\"\")\n",
        "a=\"\"\"Free API Trials:\n",
        "Many AI service providers offer free trials or limited access to their APIs. Take advantage of these to test your prompts without incurring costs.\n",
        "Local Execution:\n",
        "Running models locally on your own hardware can be a cost-effective way to experiment with AI prompts. While this might require some technical setup, it can be a good option for ongoing usage.\n",
        "\n",
        "\"\"\"\n",
        "print(a)\n",
        "\n",
        "# upper case\n",
        "print(a.upper())\n",
        "\n",
        "#lower case\n",
        "print(a.lower())\n",
        "\n",
        "# remove blankspaces first and last\n",
        "b=\"     Hello  word     ;;      \"\n"
      ]
    },
    {
      "cell_type": "code",
      "execution_count": null,
      "metadata": {
        "colab": {
          "base_uri": "https://localhost:8080/"
        },
        "id": "dAdSMyMA8Po-",
        "outputId": "654d0f58-a6f3-420d-b92b-29a73515dbf0"
      },
      "outputs": [
        {
          "name": "stdout",
          "output_type": "stream",
          "text": [
            " hi, world \n",
            "[' hello, world ']\n"
          ]
        }
      ],
      "source": [
        "#replace word to other word\n",
        "#split on base of ,\n",
        "b= \" hello, world \"\n",
        "print(b.replace(\"hello\" , \"hi\" ))\n",
        "\n",
        "print(b.split(\" , \"))"
      ]
    },
    {
      "cell_type": "code",
      "source": [
        "b=\"manyai service providers offer free trials or limited \"\n",
        "\n",
        "#first Five character in string\n",
        "first_five = b[:5]\n",
        "print(\"first five character in string :\" , first_five)\n",
        "\n",
        "#print last five character in string\n",
        "last_five =b[-5:]\n",
        "print(\"last five chareacter in string :\", last_five)\n",
        "\n",
        "#replace string\n",
        "replac = b.replace( \"manyai\" , \"hello \")\n",
        "print(replac)\n",
        "\n",
        "#Find and count substring\n",
        "sub = b.count(\"s\")\n",
        "print(\"Count of o :\",sub)\n",
        "#find first occurance\n",
        "facc = b.find(\"n\")\n",
        "print( \"first occurance of the character n :\",facc)\n",
        "faccw =b.find(\"offer\")\n",
        "print(\"first occurance of the word offer :\" , faccw)\n",
        "#reversed string\n",
        "rstr = b[::-1]\n",
        "print(\"reversed string :\" , rstr)\n"
      ],
      "metadata": {
        "colab": {
          "base_uri": "https://localhost:8080/"
        },
        "id": "e16x9Vsu-EMF",
        "outputId": "075f3c8d-79b0-45bd-9eff-ea530a0eb129"
      },
      "execution_count": null,
      "outputs": [
        {
          "output_type": "stream",
          "name": "stdout",
          "text": [
            "first five character in string : manya\n",
            "last five chareacter in string : ited \n",
            "hello  service providers offer free trials or limited \n",
            "Count of o : 3\n",
            "first occurance of the character n : 2\n",
            "first occurance of the word offer : 25\n",
            "reversed string :  detimil ro slairt eerf reffo sredivorp ecivres iaynam\n"
          ]
        }
      ]
    },
    {
      "cell_type": "code",
      "source": [
        "#Check Palindrome\n",
        "b=\"manyai service providers offer free trials or limited \"\n",
        "palandro = b == b[::-1]\n",
        "print(palandro)\n",
        "\n",
        "b=\"repaper\"\n",
        "palandr = b==b[::-1]\n",
        "print(palandr)"
      ],
      "metadata": {
        "id": "hfr2ihSF4UIM",
        "outputId": "4f8cbd5f-6a6d-46f8-e472-5cde171e3a12",
        "colab": {
          "base_uri": "https://localhost:8080/"
        }
      },
      "execution_count": null,
      "outputs": [
        {
          "output_type": "stream",
          "name": "stdout",
          "text": [
            "False\n",
            "True\n"
          ]
        }
      ]
    },
    {
      "cell_type": "code",
      "source": [
        "#split strng\n",
        "s=\"manyai service providers offer free trials or limited \"\n",
        "spli=s.split()\n",
        "print(spli)\n",
        "\n",
        "#Join the spit values. hyphen use for our choice you can also use to space etc\n",
        "join_string = \"__\".join(spli)\n",
        "print(join_string)"
      ],
      "metadata": {
        "id": "i0XTvb2C6Jt4",
        "outputId": "0de4483a-1339-490b-b9b4-7de415d5f8e8",
        "colab": {
          "base_uri": "https://localhost:8080/"
        }
      },
      "execution_count": null,
      "outputs": [
        {
          "output_type": "stream",
          "name": "stdout",
          "text": [
            "['manyai', 'service', 'providers', 'offer', 'free', 'trials', 'or', 'limited']\n",
            "manyai__service__providers__offer__free__trials__or__limited\n"
          ]
        }
      ]
    },
    {
      "cell_type": "code",
      "source": [
        "#remove Whitespace\n",
        "Whitespace_string = \"         !service !providers ! of!fer free! trials or ! limited!\"\n",
        "print(Whitespace_string)\n",
        "trimed_string = Whitespace_string.strip()\n",
        "print(trimed_string)\n",
        "#remove selected character from first and last\n",
        "trimed_string = Whitespace_string.strip(\"!\")\n",
        "print(trimed_string)"
      ],
      "metadata": {
        "id": "gZeHmuaZ7x1C",
        "outputId": "af592ec8-8ce8-41c5-8ef8-af9444d9427d",
        "colab": {
          "base_uri": "https://localhost:8080/"
        }
      },
      "execution_count": null,
      "outputs": [
        {
          "output_type": "stream",
          "name": "stdout",
          "text": [
            "         !service !providers ! of!fer free! trials or ! limited!\n",
            "!service !providers ! of!fer free! trials or ! limited!\n",
            "         !service !providers ! of!fer free! trials or ! limited\n"
          ]
        }
      ]
    },
    {
      "cell_type": "code",
      "source": [
        "f = \"!service !providers ! of!fer free! trials or ! limited!\"\n",
        "frequency = {}\n",
        "for char in f:\n",
        "    if char in frequency:\n",
        "       frequency[char] +=1\n",
        "    else:\n",
        "        frequency[char] =1\n",
        "\n",
        "print(frequency)\n",
        "\n",
        "frequency = {}\n",
        "for char in f:\n",
        "    if char in frequency:\n",
        "        frequency[char] += 1\n",
        "    else:\n",
        "        frequency[char] = 1\n",
        "\n",
        "print(\"Character Frequency:\", frequency)\n"
      ],
      "metadata": {
        "id": "41gE7iBR-M1G",
        "outputId": "0a490dfb-d2f7-4ac4-ce6d-78e17ca1839b",
        "colab": {
          "base_uri": "https://localhost:8080/"
        }
      },
      "execution_count": null,
      "outputs": [
        {
          "output_type": "stream",
          "name": "stdout",
          "text": [
            "{'!': 7, 's': 3, 'e': 7, 'r': 7, 'v': 2, 'i': 5, 'c': 1, ' ': 8, 'p': 1, 'o': 3, 'd': 2, 'f': 3, 't': 2, 'a': 1, 'l': 2, 'm': 1}\n",
            "Character Frequency: {'!': 7, 's': 3, 'e': 7, 'r': 7, 'v': 2, 'i': 5, 'c': 1, ' ': 8, 'p': 1, 'o': 3, 'd': 2, 'f': 3, 't': 2, 'a': 1, 'l': 2, 'm': 1}\n"
          ]
        }
      ]
    },
    {
      "cell_type": "markdown",
      "metadata": {
        "id": "t3HTfiLQ-jN_"
      },
      "source": [
        "**LIST Create **\n",
        "**list length **"
      ]
    },
    {
      "cell_type": "code",
      "execution_count": null,
      "metadata": {
        "colab": {
          "background_save": true,
          "base_uri": "https://localhost:8080/"
        },
        "id": "kX5qPkpL-mlm",
        "outputId": "dbc6b87d-f46e-4906-c3c3-74415b51b2ef"
      },
      "outputs": [
        {
          "name": "stdout",
          "output_type": "stream",
          "text": [
            "['apple', 'banana', 'orange']\n",
            "3\n",
            "[1, 2, 3, 4, 5, 6, 7, 87]\n",
            "[True, False, True, False]\n",
            "[112, 'apple', True, 232]\n",
            "apple\n",
            "4\n",
            "False\n"
          ]
        }
      ],
      "source": [
        "list1 = [\"apple\" , \"banana\" , \"orange\" ]\n",
        "print(list1)\n",
        "#print list1 length\n",
        "print(len(list1))\n",
        "list2= [1,2,3,4,5,6,7,87]\n",
        "list3=[True , False ,True ,False]\n",
        "list4=[112,\"apple\", True, 232]\n",
        "print(list2)\n",
        "print(list3)\n",
        "print(list4)\n",
        "\n",
        "#Accessing the element\n",
        "print(list1[0])\n",
        "print(list2[3])"
      ]
    },
    {
      "cell_type": "markdown",
      "source": [
        "**Operators **"
      ],
      "metadata": {
        "id": "iEhhaJFnaW5a"
      }
    },
    {
      "cell_type": "code",
      "source": [
        "# assignment operator use to assign the value of operators\n",
        "a= 2000\n",
        "b=499\n",
        "# == value check the value of a is equal to the value of b this operators check the equalence\n",
        "c= a==b\n",
        "print(\"a is equal to b ?\" , c)\n",
        "\n",
        "#check comparison of the two variables\n",
        "c= a!=b\n",
        "print(\"a is not equal to b ?\", c)\n",
        "\n",
        "c= a>b\n",
        "print(\"is a graterthen b\", c)\n",
        "\n",
        "c=a<b\n",
        "print(\"is a is lessthen b \" , c)\n",
        "\n",
        "c=a>=b\n",
        "print(\"check a is graterthen or equal to b \" , c)\n",
        "c=a<=b\n",
        "print(\"check a is lessthen or equal to b \", c)\n"
      ],
      "metadata": {
        "id": "5jAqq8uyaaJ-",
        "outputId": "1e32cf2a-6a1b-48ec-d133-627f9363d163",
        "colab": {
          "base_uri": "https://localhost:8080/"
        }
      },
      "execution_count": null,
      "outputs": [
        {
          "output_type": "stream",
          "name": "stdout",
          "text": [
            "a is equal to b ? False\n",
            "a is not equal to b ? True\n",
            "is a graterthen b True\n",
            "is a is lessthen b  False\n",
            "check a is graterthen or equal to b  True\n",
            "check a is lessthen or equal to b  False\n"
          ]
        }
      ]
    },
    {
      "cell_type": "code",
      "source": [
        "a=40\n",
        "b=50\n",
        "\n",
        "c= a==b and b>=a\n",
        "print(\"check and operator that mean dule condation are true so and operators are true \" ,c)\n",
        "\n",
        "c= a==b or a<=b\n",
        "print(\"check or operators \" ,c)\n",
        "\n",
        "not(a==b or a<=b)\n"
      ],
      "metadata": {
        "id": "wkM0h1c8e5HF",
        "outputId": "f9796cb0-6281-4300-9f0b-e9dd624c4c20",
        "colab": {
          "base_uri": "https://localhost:8080/"
        }
      },
      "execution_count": null,
      "outputs": [
        {
          "output_type": "stream",
          "name": "stdout",
          "text": [
            "check and operator that mean dule condation are true so and operators are true  False\n",
            "check or operators  True\n"
          ]
        },
        {
          "output_type": "execute_result",
          "data": {
            "text/plain": [
              "False"
            ]
          },
          "metadata": {},
          "execution_count": 12
        }
      ]
    },
    {
      "cell_type": "markdown",
      "source": [
        "**Membership Operators **\n",
        "\n",
        "\n",
        "\n",
        "1.   in\n",
        "2.   Not in\n",
        "\n"
      ],
      "metadata": {
        "id": "Ghr4yf25iEwq"
      }
    },
    {
      "cell_type": "code",
      "source": [
        "#if we need to check the string are available in list or not we can use this operators\n",
        "list2 = ['ali ', 'ammad' ,'muneeb' ,'saqlain' , 'adnan']\n",
        "'ammad'in list2"
      ],
      "metadata": {
        "id": "6jZQr3qLiip0",
        "outputId": "83455700-afda-453a-9dd0-1ade7e70366c",
        "colab": {
          "base_uri": "https://localhost:8080/"
        }
      },
      "execution_count": null,
      "outputs": [
        {
          "output_type": "execute_result",
          "data": {
            "text/plain": [
              "True"
            ]
          },
          "metadata": {},
          "execution_count": 25
        }
      ]
    },
    {
      "cell_type": "code",
      "source": [
        "# if we have a list in lowercase and user can enter value upper case or other case so we can convert other case to owercase\n",
        "list2 = ['ali ', 'ammad' ,'muneeb' ,'saqlain' , 'adnan']\n",
        "s= input(\"Enter your ID card Name \")\n",
        "s.lower() in list2\n",
        "#we can't use the lower() function to the list this function is a string function"
      ],
      "metadata": {
        "id": "ODTYFF8fn2-T",
        "outputId": "8b78d0ce-bbbb-438c-bd98-a7c28a4f2f73",
        "colab": {
          "base_uri": "https://localhost:8080/"
        }
      },
      "execution_count": null,
      "outputs": [
        {
          "name": "stdout",
          "output_type": "stream",
          "text": [
            "Enter your ID card Name AMMAd\n"
          ]
        },
        {
          "output_type": "execute_result",
          "data": {
            "text/plain": [
              "True"
            ]
          },
          "metadata": {},
          "execution_count": 1
        }
      ]
    },
    {
      "cell_type": "markdown",
      "source": [
        "**Create list to get user value without loop**  "
      ],
      "metadata": {
        "id": "7zvsB6QqInJ9"
      }
    },
    {
      "cell_type": "code",
      "source": [
        "# Ask the user to input items separated by spaces (or commas)\n",
        "user_input = input(\"Enter items separated by spaces: \")\n",
        "\n",
        "# Split the input string into a list\n",
        "user_list = user_input.split()\n",
        "lowcase = list(map(str.lower , user_list))\n",
        "\n",
        "# Display the final list\n",
        "print(\"Your list:\", lowcase)\n"
      ],
      "metadata": {
        "colab": {
          "base_uri": "https://localhost:8080/"
        },
        "id": "2dRqQcufIM0I",
        "outputId": "dc03bb80-1ff5-4219-f5a2-5875d58cb2f8"
      },
      "execution_count": null,
      "outputs": [
        {
          "output_type": "stream",
          "name": "stdout",
          "text": [
            "Enter items separated by spaces:  Ammad AlI MAlik SarDAR FAiq Mirza\n",
            "Your list: ['ammad', 'ali', 'malik', 'sardar', 'faiq', 'mirza']\n"
          ]
        }
      ]
    },
    {
      "cell_type": "code",
      "source": [
        "list2 = ['ali ', 'ammad' ,'muneeb' ,'saqlain' , 'adnan']\n",
        "s=\"AmAd\"\n",
        "s.lower() not in list2\n",
        "list2.sort()\n",
        "print(\"sorted list :\" , list2)"
      ],
      "metadata": {
        "id": "HSQWYyPanlw-",
        "outputId": "17c2f800-709f-4b6d-efa6-975910dd8d98",
        "colab": {
          "base_uri": "https://localhost:8080/"
        }
      },
      "execution_count": 10,
      "outputs": [
        {
          "output_type": "stream",
          "name": "stdout",
          "text": [
            "sorted list : ['adnan', 'ali ', 'ammad', 'muneeb', 'saqlain']\n"
          ]
        }
      ]
    },
    {
      "cell_type": "code",
      "source": [
        "# def add_name_to_list(name_list):\n",
        "#     # Prompt user to enter a name or press Enter to stop\n",
        "#     name = input(\"Enter a name (or press Enter to finish): \")\n",
        "\n",
        "#     if name:  # If the user entered a name\n",
        "#         name_list.append(name)\n",
        "#         # Recursively call the function to add the next name\n",
        "#         add_name_to_list(name_list)\n",
        "\n",
        "# # Initialize an empty list\n",
        "# names = []\n",
        "\n",
        "# # Start the process\n",
        "# add_name_to_list(names)\n",
        "\n",
        "# # Display the final list\n",
        "# print(\"Your list of names:\", names)\n",
        "\n",
        "def add_name_to_list(name_list):\n",
        "    # Prompt user to enter a name or press Enter to stop\n",
        "    name = input(\"Enter a name (or press Enter to finish): \")\n",
        "\n",
        "    if name:  # If the user entered a name\n",
        "        name_list.append(name.lower())\n",
        "        print(\"Current list of names:\", name_list)  # Display the current list\n",
        "        # Recursively call the function to add the next name\n",
        "        add_name_to_list(name_list)\n",
        "    else:\n",
        "        print(\"Final list of names:\", name_list)  # Display the final list\n",
        "\n",
        "# Initialize an empty list\n",
        "names = []\n",
        "\n",
        "# Start the process\n",
        "add_name_to_list(names)\n"
      ],
      "metadata": {
        "id": "qDxzl2MpSqn2"
      },
      "execution_count": null,
      "outputs": []
    },
    {
      "cell_type": "code",
      "source": [
        "def add_name_to_list(name_list):\n",
        "    # Prompt user to enter a name or press Enter to stop\n",
        "    name = input(\"Enter a name (or press Enter to finish): \")\n",
        "\n",
        "    if name:  # If the user entered a name\n",
        "        name_list.append(name.lower())\n",
        "        print(\"Current list of names:\", name_list)  # Display the current list\n",
        "        # Recursively call the function to add the next name\n",
        "        add_name_to_list(name_list)\n",
        "    else:\n",
        "        print(\"Final list of names:\", name_list)  # Display the final list\n",
        "\n",
        "def search_name_in_list(name_list):\n",
        "    search_query = input(\"Enter a name to search: \").lower()  # Convert search input to lowercase\n",
        "    if search_query in name_list:\n",
        "        print(f\"'{search_query}' found in the list!\")\n",
        "    else:\n",
        "        print(f\"'{search_query}' not found in the list.\")\n",
        "\n",
        "# Initialize an empty list\n",
        "names = []\n",
        "\n",
        "# Start the process\n",
        "add_name_to_list(names)\n",
        "\n",
        "# Search for a name in the list\n",
        "search_name_in_list(names)\n"
      ],
      "metadata": {
        "id": "GkBbI6RFR3Lh",
        "outputId": "4b800dcd-87f0-4ca3-c659-ccd51b501c43",
        "colab": {
          "base_uri": "https://localhost:8080/"
        }
      },
      "execution_count": 1,
      "outputs": [
        {
          "output_type": "stream",
          "name": "stdout",
          "text": [
            "Enter a name (or press Enter to finish): ALi\n",
            "Current list of names: ['ali']\n",
            "Enter a name (or press Enter to finish): Ammad\n",
            "Current list of names: ['ali', 'ammad']\n",
            "Enter a name (or press Enter to finish): \n",
            "Final list of names: ['ali', 'ammad']\n",
            "Enter a name to search: AMMAd\n",
            "'ammad' found in the list!\n"
          ]
        }
      ]
    },
    {
      "cell_type": "code",
      "source": [
        "list2 = ['ali ', 'ammad' ,'muneeb' ,'saqlain' , 'adnan']\n",
        "s=\"AmmAd\"\n",
        "s.lower() not in list2"
      ],
      "metadata": {
        "id": "JR3WTBq8nvsh"
      },
      "execution_count": null,
      "outputs": []
    },
    {
      "cell_type": "markdown",
      "source": [
        "**Assignment**\n",
        "Assignment list items convert in to lowercase or uppercase withour use loop\n",
        "\n",
        "**task 2**\n",
        "Get random alphabet and apply operators and guess output"
      ],
      "metadata": {
        "id": "gDIZSp9Tl_ZP"
      }
    },
    {
      "cell_type": "code",
      "source": [
        "#adding two string   concatenate a string\n",
        "s = \"hello\"+' '+\"world\"\n",
        "print(s)"
      ],
      "metadata": {
        "id": "8hzVS5oFoR7O",
        "outputId": "def5e410-010f-4e04-fabc-cbcd2d40578d",
        "colab": {
          "base_uri": "https://localhost:8080/"
        }
      },
      "execution_count": null,
      "outputs": [
        {
          "output_type": "stream",
          "name": "stdout",
          "text": [
            "hello world\n"
          ]
        }
      ]
    },
    {
      "cell_type": "code",
      "source": [
        "# if we can multiply the string\n",
        "s= \"ha\"\n",
        "d= s*7+ \"!\"\n",
        "print(d)\n",
        "#repeat string 7 times"
      ],
      "metadata": {
        "id": "t744C9GFo5GE",
        "outputId": "23524f00-a839-47f7-fc6e-6ca83b46a88b",
        "colab": {
          "base_uri": "https://localhost:8080/"
        }
      },
      "execution_count": null,
      "outputs": [
        {
          "output_type": "stream",
          "name": "stdout",
          "text": [
            "hahahahahahaha!\n"
          ]
        }
      ]
    },
    {
      "cell_type": "code",
      "source": [
        "\n",
        "\"ali\"> \"ammad\""
      ],
      "metadata": {
        "id": "g1Vzqgcet7C4"
      },
      "execution_count": null,
      "outputs": []
    },
    {
      "cell_type": "code",
      "source": [
        "my_list = ['apple', 'banana', 'cherry']\n",
        "\n",
        "# Convert all elements to uppercase using map()\n",
        "uppercase_list = list(map(str.upper, my_list))\n",
        "\n",
        "print(uppercase_list)\n",
        "# Output: ['APPLE', 'BANANA', 'CHERRY']\n"
      ],
      "metadata": {
        "colab": {
          "base_uri": "https://localhost:8080/"
        },
        "id": "-GhmEtV_5kyM",
        "outputId": "3197a0d5-7718-4aba-aa5b-91fb2acfcc5c"
      },
      "execution_count": null,
      "outputs": [
        {
          "output_type": "stream",
          "name": "stdout",
          "text": [
            "['APPLE', 'BANANA', 'CHERRY']\n"
          ]
        }
      ]
    },
    {
      "cell_type": "markdown",
      "source": [
        "Condations\n",
        "if condation statement write after 4 spaces so you can use tab button so we can cet the tab button on 4 spaces\n",
        "if you can tab and spaces are mixed write so maximum chances to get errors\n",
        "\n",
        "\n",
        "\n",
        "\n",
        "1.   1st concept if and else\n",
        "2.   2nd concept if elif  else\n",
        "\n"
      ],
      "metadata": {
        "id": "oVZWUMUAAnAl"
      }
    },
    {
      "cell_type": "code",
      "source": [
        "user_input= input(\"please Enter Number \")\n",
        "if int(user_input)==0:\n",
        "    print(user_input,\"Number is Null \")\n",
        "elif int(user_input)>0:\n",
        "    print(user_input, \"Number is positive \")\n",
        "elif int(user_input)<0:\n",
        "    print(user_input, \"Number is Negative \")"
      ],
      "metadata": {
        "id": "wX3sGJ8FDzme"
      },
      "execution_count": null,
      "outputs": []
    },
    {
      "cell_type": "markdown",
      "source": [
        "**LOOPS**"
      ],
      "metadata": {
        "id": "Pu8GjzL97M3I"
      }
    },
    {
      "cell_type": "code",
      "source": [
        "for i in range(5):\n",
        "    print(\"hello \")"
      ],
      "metadata": {
        "id": "jFzB2odB7Pj0",
        "outputId": "4c38cc33-83ba-4b26-f662-85bfa70bfa85",
        "colab": {
          "base_uri": "https://localhost:8080/"
        }
      },
      "execution_count": 6,
      "outputs": [
        {
          "output_type": "stream",
          "name": "stdout",
          "text": [
            "hello \n",
            "hello \n",
            "hello \n",
            "hello \n",
            "hello \n"
          ]
        }
      ]
    },
    {
      "cell_type": "code",
      "source": [
        "number_list =['ali', 'ammad', 'sardar' , 'malik', 'muneeb']\n",
        "\n",
        "for number in number_list:\n",
        "    print(number)"
      ],
      "metadata": {
        "id": "nxP45w8U__wX",
        "outputId": "75d27f52-293a-4605-df02-566838e0e571",
        "colab": {
          "base_uri": "https://localhost:8080/"
        }
      },
      "execution_count": 12,
      "outputs": [
        {
          "output_type": "stream",
          "name": "stdout",
          "text": [
            "ali\n",
            "ammad\n",
            "sardar\n",
            "malik\n",
            "muneeb\n"
          ]
        }
      ]
    },
    {
      "cell_type": "code",
      "source": [
        "number_list=[10,20,30,40,50,60,70]\n",
        "total_sum = 0\n",
        "list_length = len(number_list)\n",
        "for num in number_list :\n",
        "    total_sum = total_sum + num\n",
        "    print(total_sum)\n",
        "\n",
        "Average_sum = total_sum/list_length\n",
        "print(\"Average :\" , Average_sum)"
      ],
      "metadata": {
        "id": "LYKys_a6EImF",
        "outputId": "ac611293-4793-4691-eb07-2ae5b1539723",
        "colab": {
          "base_uri": "https://localhost:8080/"
        }
      },
      "execution_count": 15,
      "outputs": [
        {
          "output_type": "stream",
          "name": "stdout",
          "text": [
            "10\n",
            "30\n",
            "60\n",
            "100\n",
            "150\n",
            "210\n",
            "280\n",
            "Average : 40.0\n"
          ]
        }
      ]
    },
    {
      "cell_type": "code",
      "source": [
        "stri =\"ammadkhansardar\"\n",
        "for character in stri :\n",
        "    print(character)"
      ],
      "metadata": {
        "id": "rP7l9RbPF07_",
        "outputId": "14cece63-09e7-4718-e1e7-fda7d363ecd1",
        "colab": {
          "base_uri": "https://localhost:8080/"
        }
      },
      "execution_count": 17,
      "outputs": [
        {
          "output_type": "stream",
          "name": "stdout",
          "text": [
            "a\n",
            "m\n",
            "m\n",
            "a\n",
            "d\n",
            "k\n",
            "h\n",
            "a\n",
            "n\n",
            "s\n",
            "a\n",
            "r\n",
            "d\n",
            "a\n",
            "r\n"
          ]
        }
      ]
    },
    {
      "cell_type": "code",
      "source": [
        "#print tabel using range function\n",
        "s=int(input(\"enter table you can print \"))\n",
        "for i in range(1, 11):\n",
        "    print(s,\"*\",i,\"=\",\"    \",s*i)"
      ],
      "metadata": {
        "id": "vYl8aDuIGRJm",
        "outputId": "b8320141-137b-4a72-874e-6898d4bdd252",
        "colab": {
          "base_uri": "https://localhost:8080/"
        }
      },
      "execution_count": 24,
      "outputs": [
        {
          "output_type": "stream",
          "name": "stdout",
          "text": [
            "enter table you can print 7\n",
            "7 * 1 =      7\n",
            "7 * 2 =      14\n",
            "7 * 3 =      21\n",
            "7 * 4 =      28\n",
            "7 * 5 =      35\n",
            "7 * 6 =      42\n",
            "7 * 7 =      49\n",
            "7 * 8 =      56\n",
            "7 * 9 =      63\n",
            "7 * 10 =      70\n"
          ]
        }
      ]
    },
    {
      "cell_type": "code",
      "source": [
        "list3=[10 ,20 ,3 ,40 ,50 ,60 ,70 ,80 ,80 ,90 ]\n",
        "for i in range(len(list3)):\n",
        "    print(i, list3[i])"
      ],
      "metadata": {
        "id": "kaGgN54ZIpYF",
        "outputId": "f3e66fe3-2918-4303-a268-eaeb0c514130",
        "colab": {
          "base_uri": "https://localhost:8080/"
        }
      },
      "execution_count": 30,
      "outputs": [
        {
          "output_type": "stream",
          "name": "stdout",
          "text": [
            "0 10\n",
            "1 20\n",
            "2 3\n",
            "3 40\n",
            "4 50\n",
            "5 60\n",
            "6 70\n",
            "7 80\n",
            "8 80\n",
            "9 90\n"
          ]
        }
      ]
    },
    {
      "cell_type": "code",
      "source": [
        "#we can use keys and values to get values and keys in output\n",
        "list4=[\"apple\":\"fav fruit\", \"applep\":\"Fav company\", \"window\":\"fav operating system\", \"year \": 2024]\n",
        "for value in list4.values():\n",
        "    print(value)"
      ],
      "metadata": {
        "id": "8kKDigcuNrie"
      },
      "execution_count": null,
      "outputs": []
    }
  ],
  "metadata": {
    "colab": {
      "provenance": [],
      "authorship_tag": "ABX9TyMvyK9seucN+d6Aj9m6jD1k",
      "include_colab_link": true
    },
    "kernelspec": {
      "display_name": "Python 3",
      "name": "python3"
    },
    "language_info": {
      "name": "python"
    }
  },
  "nbformat": 4,
  "nbformat_minor": 0
}