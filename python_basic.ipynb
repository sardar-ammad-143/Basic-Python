{
  "cells": [
    {
      "cell_type": "markdown",
      "metadata": {
        "id": "view-in-github",
        "colab_type": "text"
      },
      "source": [
        "<a href=\"https://colab.research.google.com/github/sardar-ammad-143/Basic-Python/blob/main/python_basic.ipynb\" target=\"_parent\"><img src=\"https://colab.research.google.com/assets/colab-badge.svg\" alt=\"Open In Colab\"/></a>"
      ]
    },
    {
      "cell_type": "code",
      "execution_count": null,
      "metadata": {
        "colab": {
          "base_uri": "https://localhost:8080/"
        },
        "id": "fhLfdRRWfOL9",
        "outputId": "2a0f2963-867e-4f56-ffd7-e06139914c22"
      },
      "outputs": [
        {
          "name": "stdout",
          "output_type": "stream",
          "text": [
            "25\n"
          ]
        }
      ],
      "source": [
        "# saving and printing the students marks for calculating total marks\n",
        "num_student =25\n",
        "print(num_student)"
      ]
    },
    {
      "cell_type": "code",
      "execution_count": null,
      "metadata": {
        "colab": {
          "base_uri": "https://localhost:8080/"
        },
        "id": "TsWVTwaufjbW",
        "outputId": "42f959b8-cb43-4640-f3a0-c18b52ddca8e"
      },
      "outputs": [
        {
          "name": "stdout",
          "output_type": "stream",
          "text": [
            "30.5454\n"
          ]
        }
      ],
      "source": [
        "total_sale =30.5454\n",
        "print(total_sale)"
      ]
    },
    {
      "cell_type": "code",
      "execution_count": null,
      "metadata": {
        "colab": {
          "base_uri": "https://localhost:8080/"
        },
        "id": "xJNIV2kXgcDV",
        "outputId": "9e9bfe33-be53-4ec9-9ef4-77ebc944c7ce"
      },
      "outputs": [
        {
          "name": "stdout",
          "output_type": "stream",
          "text": [
            "hello word \n"
          ]
        }
      ],
      "source": [
        "student_name =\"A\"\n",
        "print(\"hello word \")\n"
      ]
    },
    {
      "cell_type": "markdown",
      "metadata": {
        "id": "PB1IQVKdiSQP"
      },
      "source": [
        "**Data Type : Numeric**\n",
        "\n",
        "\n",
        "1.   int = 12\n",
        "2.   float= 34.65\n",
        "3.   complex = 1 + 3k\n",
        "\n",
        "\n"
      ]
    },
    {
      "cell_type": "markdown",
      "metadata": {
        "id": "VAo4hMbLjFMG"
      },
      "source": [
        "**Data Type : String **\n",
        "\n",
        "\n",
        "*   str : \"The future of AI\"\n",
        "\n"
      ]
    },
    {
      "cell_type": "code",
      "execution_count": null,
      "metadata": {
        "id": "tD_zuAK0iISV"
      },
      "outputs": [],
      "source": []
    },
    {
      "cell_type": "code",
      "execution_count": null,
      "metadata": {
        "colab": {
          "base_uri": "https://localhost:8080/",
          "height": 106
        },
        "id": "dGt1QSlKhR9V",
        "outputId": "88e1bb17-0f55-47a0-d876-7f791e909b6d"
      },
      "outputs": [
        {
          "ename": "SyntaxError",
          "evalue": "invalid decimal literal (<ipython-input-13-49ddf68b3e92>, line 2)",
          "output_type": "error",
          "traceback": [
            "\u001b[0;36m  File \u001b[0;32m\"<ipython-input-13-49ddf68b3e92>\"\u001b[0;36m, line \u001b[0;32m2\u001b[0m\n\u001b[0;31m    2nd_student = \"alice\"\u001b[0m\n\u001b[0m    ^\u001b[0m\n\u001b[0;31mSyntaxError\u001b[0m\u001b[0;31m:\u001b[0m invalid decimal literal\n"
          ]
        }
      ],
      "source": [
        "#synatax error color\n",
        "2nd_student = \"alice\"\n",
        "#reserve word color\n",
        "if =10\n"
      ]
    },
    {
      "cell_type": "markdown",
      "metadata": {
        "id": "zSj1fLQi2inz"
      },
      "source": [
        "**Lecture 2 **\n",
        "\n",
        "\n",
        "1.   Python String\n",
        "2.   Python List\n",
        "3.   Python Tuple\n",
        "4.   Python Sets\n",
        "5.   Arithmetic Operator\n",
        "6.   Logical Operator\n",
        "\n",
        "\n",
        "**String Python**\n"
      ]
    },
    {
      "cell_type": "code",
      "execution_count": null,
      "metadata": {
        "colab": {
          "base_uri": "https://localhost:8080/"
        },
        "id": "4G-f5f-w3wA5",
        "outputId": "4a292eff-9fe1-428c-f6f3-6b88ea4acd24"
      },
      "outputs": [
        {
          "name": "stdout",
          "output_type": "stream",
          "text": [
            "I'm Ammad   Idrees \n",
            "hello Ammad \n"
          ]
        }
      ],
      "source": [
        "print(\"I'm Ammad   Idrees \")\n",
        "print('hello Ammad ')"
      ]
    },
    {
      "cell_type": "code",
      "execution_count": null,
      "metadata": {
        "colab": {
          "base_uri": "https://localhost:8080/"
        },
        "id": "UvmInkcf4GRa",
        "outputId": "9c93b4d4-830a-46b6-95eb-cb31feb4a2dc"
      },
      "outputs": [
        {
          "name": "stdout",
          "output_type": "stream",
          "text": [
            "how are you \n"
          ]
        }
      ],
      "source": [
        "a=\"how are you \"\n",
        "print(a)"
      ]
    },
    {
      "cell_type": "code",
      "execution_count": null,
      "metadata": {
        "colab": {
          "base_uri": "https://localhost:8080/"
        },
        "id": "ii2TxNKq4gJm",
        "outputId": "f8b5ba20-0c46-4237-ab06-8fa90fbd84e1"
      },
      "outputs": [
        {
          "name": "stdout",
          "output_type": "stream",
          "text": [
            "Free API Trials:\n",
            "Many AI service providers offer free trials or limited access to their APIs. Take advantage of these to test your prompts without incurring costs.\n",
            "Local Execution:\n",
            "Running models locally on your own hardware can be a cost-effective way to experiment with AI prompts. While this might require some technical setup, it can be a good option for ongoing usage.\n",
            "\n",
            "\n",
            "Free API Trials:\n",
            "Many AI service providers offer free trials or limited access to their APIs. Take advantage of these to test your prompts without incurring costs.\n",
            "Local Execution:\n",
            "Running models locally on your own hardware can be a cost-effective way to experiment with AI prompts. While this might require some technical setup, it can be a good option for ongoing usage.\n",
            "\n",
            "\n",
            "FREE API TRIALS:\n",
            "MANY AI SERVICE PROVIDERS OFFER FREE TRIALS OR LIMITED ACCESS TO THEIR APIS. TAKE ADVANTAGE OF THESE TO TEST YOUR PROMPTS WITHOUT INCURRING COSTS.\n",
            "LOCAL EXECUTION:\n",
            "RUNNING MODELS LOCALLY ON YOUR OWN HARDWARE CAN BE A COST-EFFECTIVE WAY TO EXPERIMENT WITH AI PROMPTS. WHILE THIS MIGHT REQUIRE SOME TECHNICAL SETUP, IT CAN BE A GOOD OPTION FOR ONGOING USAGE.\n",
            "\n",
            "\n",
            "free api trials:\n",
            "many ai service providers offer free trials or limited access to their apis. take advantage of these to test your prompts without incurring costs.\n",
            "local execution:\n",
            "running models locally on your own hardware can be a cost-effective way to experiment with ai prompts. while this might require some technical setup, it can be a good option for ongoing usage.\n",
            "\n",
            "\n",
            "Hello  word     ;;\n",
            "free of cost API Trials:\n",
            "Many AI service providers offer free trials or limited access to their APIs. Take advantage of these to test your prompts without incurring costs.\n",
            "Local Execution:\n",
            "Running models locally on your own hardware can be a cost-effective way to experiment with AI prompts. While this might require some technical setup, it can be a good option for ongoing usage.\n",
            "\n",
            "\n"
          ]
        }
      ],
      "source": [
        "#paragraph string\n",
        "print(\"\"\"Free API Trials:\n",
        "Many AI service providers offer free trials or limited access to their APIs. Take advantage of these to test your prompts without incurring costs.\n",
        "Local Execution:\n",
        "Running models locally on your own hardware can be a cost-effective way to experiment with AI prompts. While this might require some technical setup, it can be a good option for ongoing usage.\n",
        "\n",
        "\"\"\")\n",
        "a=\"\"\"Free API Trials:\n",
        "Many AI service providers offer free trials or limited access to their APIs. Take advantage of these to test your prompts without incurring costs.\n",
        "Local Execution:\n",
        "Running models locally on your own hardware can be a cost-effective way to experiment with AI prompts. While this might require some technical setup, it can be a good option for ongoing usage.\n",
        "\n",
        "\"\"\"\n",
        "print(a)\n",
        "\n",
        "# upper case\n",
        "print(a.upper())\n",
        "\n",
        "#lower case\n",
        "print(a.lower())\n",
        "\n",
        "# remove blankspaces first and last\n",
        "b=\"     Hello  word     ;;      \"\n"
      ]
    },
    {
      "cell_type": "code",
      "execution_count": null,
      "metadata": {
        "colab": {
          "base_uri": "https://localhost:8080/"
        },
        "id": "dAdSMyMA8Po-",
        "outputId": "654d0f58-a6f3-420d-b92b-29a73515dbf0"
      },
      "outputs": [
        {
          "name": "stdout",
          "output_type": "stream",
          "text": [
            " hi, world \n",
            "[' hello, world ']\n"
          ]
        }
      ],
      "source": [
        "#replace word to other word\n",
        "#split on base of ,\n",
        "b= \" hello, world \"\n",
        "print(b.replace(\"hello\" , \"hi\" ))\n",
        "\n",
        "print(b.split(\" , \"))"
      ]
    },
    {
      "cell_type": "code",
      "source": [
        "b=\"manyai service providers offer free trials or limited \"\n",
        "\n",
        "#first Five character in string\n",
        "first_five = b[:5]\n",
        "print(\"first five character in string :\" , first_five)\n",
        "\n",
        "#print last five character in string\n",
        "last_five =b[-5:]\n",
        "print(\"last five chareacter in string :\", last_five)\n",
        "\n",
        "#replace string\n",
        "replac = b.replace( \"manyai\" , \"hello \")\n",
        "print(replac)\n",
        "\n",
        "#Find and count substring\n",
        "sub = b.count(\"s\")\n",
        "print(\"Count of o :\",sub)\n",
        "#find first occurance\n",
        "facc = b.find(\"n\")\n",
        "print( \"first occurance of the character n :\",facc)\n",
        "faccw =b.find(\"offer\")\n",
        "print(\"first occurance of the word offer :\" , faccw)\n",
        "#reversed string\n",
        "rstr = b[::-1]\n",
        "print(\"reversed string :\" , rstr)\n"
      ],
      "metadata": {
        "colab": {
          "base_uri": "https://localhost:8080/"
        },
        "id": "e16x9Vsu-EMF",
        "outputId": "075f3c8d-79b0-45bd-9eff-ea530a0eb129"
      },
      "execution_count": 22,
      "outputs": [
        {
          "output_type": "stream",
          "name": "stdout",
          "text": [
            "first five character in string : manya\n",
            "last five chareacter in string : ited \n",
            "hello  service providers offer free trials or limited \n",
            "Count of o : 3\n",
            "first occurance of the character n : 2\n",
            "first occurance of the word offer : 25\n",
            "reversed string :  detimil ro slairt eerf reffo sredivorp ecivres iaynam\n"
          ]
        }
      ]
    },
    {
      "cell_type": "markdown",
      "metadata": {
        "id": "t3HTfiLQ-jN_"
      },
      "source": [
        "**LIST Create **\n",
        "**list length **"
      ]
    },
    {
      "cell_type": "code",
      "execution_count": null,
      "metadata": {
        "colab": {
          "background_save": true,
          "base_uri": "https://localhost:8080/"
        },
        "id": "kX5qPkpL-mlm",
        "outputId": "dbc6b87d-f46e-4906-c3c3-74415b51b2ef"
      },
      "outputs": [
        {
          "name": "stdout",
          "output_type": "stream",
          "text": [
            "['apple', 'banana', 'orange']\n",
            "3\n",
            "[1, 2, 3, 4, 5, 6, 7, 87]\n",
            "[True, False, True, False]\n",
            "[112, 'apple', True, 232]\n",
            "apple\n",
            "4\n",
            "False\n"
          ]
        }
      ],
      "source": [
        "list1 = [\"apple\" , \"banana\" , \"orange\" ]\n",
        "print(list1)\n",
        "#print list1 length\n",
        "print(len(list1))\n",
        "list2= [1,2,3,4,5,6,7,87]\n",
        "list3=[True , False ,True ,False]\n",
        "list4=[112,\"apple\", True, 232]\n",
        "print(list2)\n",
        "print(list3)\n",
        "print(list4)\n",
        "\n",
        "#Accessing the element\n",
        "print(list1[0])\n",
        "print(list2[3])"
      ]
    }
  ],
  "metadata": {
    "colab": {
      "provenance": [],
      "authorship_tag": "ABX9TyO4VpQ6fBS3vmt1rrlkZQ88",
      "include_colab_link": true
    },
    "kernelspec": {
      "display_name": "Python 3",
      "name": "python3"
    },
    "language_info": {
      "name": "python"
    }
  },
  "nbformat": 4,
  "nbformat_minor": 0
}