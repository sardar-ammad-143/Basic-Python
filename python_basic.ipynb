{
  "nbformat": 4,
  "nbformat_minor": 0,
  "metadata": {
    "colab": {
      "provenance": [],
      "authorship_tag": "ABX9TyM4oOSvS6dOZQQX5Br5dKgJ",
      "include_colab_link": true
    },
    "kernelspec": {
      "name": "python3",
      "display_name": "Python 3"
    },
    "language_info": {
      "name": "python"
    }
  },
  "cells": [
    {
      "cell_type": "markdown",
      "metadata": {
        "id": "view-in-github",
        "colab_type": "text"
      },
      "source": [
        "<a href=\"https://colab.research.google.com/github/sardar-ammad-143/Basic-Python/blob/main/python_basic.ipynb\" target=\"_parent\"><img src=\"https://colab.research.google.com/assets/colab-badge.svg\" alt=\"Open In Colab\"/></a>"
      ]
    },
    {
      "cell_type": "code",
      "execution_count": null,
      "metadata": {
        "colab": {
          "base_uri": "https://localhost:8080/"
        },
        "id": "fhLfdRRWfOL9",
        "outputId": "2a0f2963-867e-4f56-ffd7-e06139914c22"
      },
      "outputs": [
        {
          "output_type": "stream",
          "name": "stdout",
          "text": [
            "25\n"
          ]
        }
      ],
      "source": [
        "# saving and printing the students marks for calculating total marks\n",
        "num_student =25\n",
        "print(num_student)"
      ]
    },
    {
      "cell_type": "code",
      "source": [
        "total_sale =30.5454\n",
        "print(total_sale)"
      ],
      "metadata": {
        "colab": {
          "base_uri": "https://localhost:8080/"
        },
        "id": "TsWVTwaufjbW",
        "outputId": "42f959b8-cb43-4640-f3a0-c18b52ddca8e"
      },
      "execution_count": null,
      "outputs": [
        {
          "output_type": "stream",
          "name": "stdout",
          "text": [
            "30.5454\n"
          ]
        }
      ]
    },
    {
      "cell_type": "code",
      "source": [
        "student_name =\"A\"\n",
        "print(\"hello word \")\n"
      ],
      "metadata": {
        "colab": {
          "base_uri": "https://localhost:8080/"
        },
        "id": "xJNIV2kXgcDV",
        "outputId": "9e9bfe33-be53-4ec9-9ef4-77ebc944c7ce"
      },
      "execution_count": null,
      "outputs": [
        {
          "output_type": "stream",
          "name": "stdout",
          "text": [
            "hello word \n"
          ]
        }
      ]
    },
    {
      "cell_type": "markdown",
      "source": [
        "**Data Type : Numeric**\n",
        "\n",
        "\n",
        "1.   int = 12\n",
        "2.   float= 34.65\n",
        "3.   complex = 1 + 3k\n",
        "\n",
        "\n"
      ],
      "metadata": {
        "id": "PB1IQVKdiSQP"
      }
    },
    {
      "cell_type": "markdown",
      "source": [
        "**Data Type : String **\n",
        "\n",
        "\n",
        "*   str : \"The future of AI\"\n",
        "\n"
      ],
      "metadata": {
        "id": "VAo4hMbLjFMG"
      }
    },
    {
      "cell_type": "code",
      "source": [],
      "metadata": {
        "id": "tD_zuAK0iISV"
      },
      "execution_count": null,
      "outputs": []
    },
    {
      "cell_type": "code",
      "source": [
        "#synatax error color\n",
        "2nd_student = \"alice\"\n",
        "#reserve word color\n",
        "if =10\n"
      ],
      "metadata": {
        "colab": {
          "base_uri": "https://localhost:8080/",
          "height": 106
        },
        "id": "dGt1QSlKhR9V",
        "outputId": "88e1bb17-0f55-47a0-d876-7f791e909b6d"
      },
      "execution_count": null,
      "outputs": [
        {
          "output_type": "error",
          "ename": "SyntaxError",
          "evalue": "invalid decimal literal (<ipython-input-13-49ddf68b3e92>, line 2)",
          "traceback": [
            "\u001b[0;36m  File \u001b[0;32m\"<ipython-input-13-49ddf68b3e92>\"\u001b[0;36m, line \u001b[0;32m2\u001b[0m\n\u001b[0;31m    2nd_student = \"alice\"\u001b[0m\n\u001b[0m    ^\u001b[0m\n\u001b[0;31mSyntaxError\u001b[0m\u001b[0;31m:\u001b[0m invalid decimal literal\n"
          ]
        }
      ]
    },
    {
      "cell_type": "markdown",
      "source": [
        "**Lecture 2 **\n",
        "\n",
        "\n",
        "1.   Python String\n",
        "2.   Python List\n",
        "3.   Python Tuple\n",
        "4.   Python Sets\n",
        "5.   Arithmetic Operator\n",
        "6.   Logical Operator\n",
        "\n",
        "\n",
        "**String Python**\n"
      ],
      "metadata": {
        "id": "zSj1fLQi2inz"
      }
    },
    {
      "cell_type": "code",
      "source": [
        "print(\"I'm Ammad   Idrees \")\n",
        "print('hello Ammad ')"
      ],
      "metadata": {
        "colab": {
          "base_uri": "https://localhost:8080/"
        },
        "id": "4G-f5f-w3wA5",
        "outputId": "4a292eff-9fe1-428c-f6f3-6b88ea4acd24"
      },
      "execution_count": 1,
      "outputs": [
        {
          "output_type": "stream",
          "name": "stdout",
          "text": [
            "I'm Ammad   Idrees \n",
            "hello Ammad \n"
          ]
        }
      ]
    },
    {
      "cell_type": "code",
      "source": [
        "a=\"how are you \"\n",
        "print(a)"
      ],
      "metadata": {
        "colab": {
          "base_uri": "https://localhost:8080/"
        },
        "id": "UvmInkcf4GRa",
        "outputId": "9c93b4d4-830a-46b6-95eb-cb31feb4a2dc"
      },
      "execution_count": 2,
      "outputs": [
        {
          "output_type": "stream",
          "name": "stdout",
          "text": [
            "how are you \n"
          ]
        }
      ]
    },
    {
      "cell_type": "code",
      "source": [
        "#paragraph string\n",
        "print(\"\"\"Free API Trials:\n",
        "Many AI service providers offer free trials or limited access to their APIs. Take advantage of these to test your prompts without incurring costs.\n",
        "Local Execution:\n",
        "Running models locally on your own hardware can be a cost-effective way to experiment with AI prompts. While this might require some technical setup, it can be a good option for ongoing usage.\n",
        "\n",
        "\"\"\")\n",
        "a=\"\"\"Free API Trials:\n",
        "Many AI service providers offer free trials or limited access to their APIs. Take advantage of these to test your prompts without incurring costs.\n",
        "Local Execution:\n",
        "Running models locally on your own hardware can be a cost-effective way to experiment with AI prompts. While this might require some technical setup, it can be a good option for ongoing usage.\n",
        "\n",
        "\"\"\"\n",
        "print(a)\n",
        "\n",
        "# upper case\n",
        "print(a.upper())\n",
        "\n",
        "#lower case\n",
        "print(a.lower())\n",
        "\n",
        "# remove blankspaces first and last\n",
        "b=\"     Hello  word     ;;      \"\n"
      ],
      "metadata": {
        "colab": {
          "base_uri": "https://localhost:8080/"
        },
        "id": "ii2TxNKq4gJm",
        "outputId": "f8b5ba20-0c46-4237-ab06-8fa90fbd84e1"
      },
      "execution_count": 14,
      "outputs": [
        {
          "output_type": "stream",
          "name": "stdout",
          "text": [
            "Free API Trials:\n",
            "Many AI service providers offer free trials or limited access to their APIs. Take advantage of these to test your prompts without incurring costs.\n",
            "Local Execution:\n",
            "Running models locally on your own hardware can be a cost-effective way to experiment with AI prompts. While this might require some technical setup, it can be a good option for ongoing usage.\n",
            "\n",
            "\n",
            "Free API Trials:\n",
            "Many AI service providers offer free trials or limited access to their APIs. Take advantage of these to test your prompts without incurring costs.\n",
            "Local Execution:\n",
            "Running models locally on your own hardware can be a cost-effective way to experiment with AI prompts. While this might require some technical setup, it can be a good option for ongoing usage.\n",
            "\n",
            "\n",
            "FREE API TRIALS:\n",
            "MANY AI SERVICE PROVIDERS OFFER FREE TRIALS OR LIMITED ACCESS TO THEIR APIS. TAKE ADVANTAGE OF THESE TO TEST YOUR PROMPTS WITHOUT INCURRING COSTS.\n",
            "LOCAL EXECUTION:\n",
            "RUNNING MODELS LOCALLY ON YOUR OWN HARDWARE CAN BE A COST-EFFECTIVE WAY TO EXPERIMENT WITH AI PROMPTS. WHILE THIS MIGHT REQUIRE SOME TECHNICAL SETUP, IT CAN BE A GOOD OPTION FOR ONGOING USAGE.\n",
            "\n",
            "\n",
            "free api trials:\n",
            "many ai service providers offer free trials or limited access to their apis. take advantage of these to test your prompts without incurring costs.\n",
            "local execution:\n",
            "running models locally on your own hardware can be a cost-effective way to experiment with ai prompts. while this might require some technical setup, it can be a good option for ongoing usage.\n",
            "\n",
            "\n",
            "Hello  word     ;;\n",
            "free of cost API Trials:\n",
            "Many AI service providers offer free trials or limited access to their APIs. Take advantage of these to test your prompts without incurring costs.\n",
            "Local Execution:\n",
            "Running models locally on your own hardware can be a cost-effective way to experiment with AI prompts. While this might require some technical setup, it can be a good option for ongoing usage.\n",
            "\n",
            "\n"
          ]
        }
      ]
    },
    {
      "cell_type": "code",
      "source": [
        "#replace word to other word\n",
        "#split on base of ,\n",
        "b= \" hello, world \"\n",
        "print(b.replace(\"hello\" , \"hi\" ))\n",
        "\n",
        "print(b.split(\" , \"))"
      ],
      "metadata": {
        "colab": {
          "base_uri": "https://localhost:8080/"
        },
        "id": "dAdSMyMA8Po-",
        "outputId": "654d0f58-a6f3-420d-b92b-29a73515dbf0"
      },
      "execution_count": 19,
      "outputs": [
        {
          "output_type": "stream",
          "name": "stdout",
          "text": [
            " hi, world \n",
            "[' hello, world ']\n"
          ]
        }
      ]
    },
    {
      "cell_type": "markdown",
      "source": [
        "**LIST Create **\n",
        "**list length **"
      ],
      "metadata": {
        "id": "t3HTfiLQ-jN_"
      }
    },
    {
      "cell_type": "code",
      "source": [
        "list1 = [\"apple\" , \"banana\" , \"orange\" ]\n",
        "print(list1)\n",
        "print(len(list1))\n",
        "list2= [1,2,3,4,5,6,7,87]\n",
        "list3=[True , False ,True ,False]\n",
        "list4=[112,\"apple\", True, 232]\n",
        "print(list2)\n",
        "print(list3)\n",
        "print(list4)\n",
        "\n",
        "#Accessing the element\n",
        "print(list1[0])\n",
        "print(list2[3])\n",
        "#[-1] this is use to access last element\n",
        "print(list3[-1])\n",
        "# print range of list 0 to 3\n",
        "print(list4[0:3])"
      ],
      "metadata": {
        "colab": {
          "base_uri": "https://localhost:8080/"
        },
        "id": "kX5qPkpL-mlm",
        "outputId": "542555af-8042-403d-c088-020aa1823157"
      },
      "execution_count": 5,
      "outputs": [
        {
          "output_type": "stream",
          "name": "stdout",
          "text": [
            "['apple', 'banana', 'orange']\n",
            "3\n",
            "[1, 2, 3, 4, 5, 6, 7, 87]\n",
            "[True, False, True, False]\n",
            "[112, 'apple', True, 232]\n",
            "apple\n",
            "4\n",
            "False\n",
            "[112, 'apple', True]\n"
          ]
        }
      ]
    }
  ]
}